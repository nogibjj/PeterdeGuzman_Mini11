{
 "cells": [
  {
   "cell_type": "markdown",
   "metadata": {
    "application/vnd.databricks.v1+cell": {
     "cellMetadata": {
      "byteLimit": 2048000,
      "rowLimit": 10000
     },
     "inputWidgets": {},
     "nuid": "3983e125-ec35-430c-83a0-856c2c8c7706",
     "showTitle": false,
     "tableResultSettingsMap": {},
     "title": ""
    }
   },
   "source": [
    "This notebook runs all extract functions for NC voter registration data.\n"
   ]
  },
  {
   "cell_type": "code",
   "execution_count": 0,
   "metadata": {
    "application/vnd.databricks.v1+cell": {
     "cellMetadata": {
      "byteLimit": 2048000,
      "rowLimit": 10000
     },
     "inputWidgets": {},
     "nuid": "f336be4a-1acc-431b-a42c-d58dece3364c",
     "showTitle": false,
     "tableResultSettingsMap": {},
     "title": ""
    }
   },
   "outputs": [],
   "source": [
    "# Import packages\n",
    "import requests\n",
    "import os\n",
    "import zipfile\n",
    "import chardet\n",
    "import io\n",
    "import pandas as pd\n",
    "from pyspark.sql import SparkSession\n",
    "\n",
    "\n",
    "def extract_load(\n",
    "    url,\n",
    "    filepath,\n",
    "):\n",
    "    \"\"\"Extract to file path\"\"\"\n",
    "    spark = SparkSession.builder.appName(\"Read CSV from URL\").getOrCreate()\n",
    "\n",
    "    df = pd.read_csv(url, sep=\"\\t\", encoding=\"utf-16\")\n",
    "    print(df.head())\n",
    "    pollingplaces_df = spark.createDataFrame(df)\n",
    "    pollingplaces_df.write.format(\"delta\").mode(\"append\").saveAsTable(\"ped19_pollingplaces\")\n",
    "    print(\"Dataframe saved to table\")\n",
    "    return filepath"
   ]
  },
  {
   "cell_type": "code",
   "execution_count": 0,
   "metadata": {
    "application/vnd.databricks.v1+cell": {
     "cellMetadata": {
      "byteLimit": 2048000,
      "rowLimit": 10000
     },
     "inputWidgets": {},
     "nuid": "8d86adfd-216f-412f-98ce-fbcbf0e8b4d5",
     "showTitle": false,
     "tableResultSettingsMap": {},
     "title": ""
    }
   },
   "outputs": [],
   "source": [
    "# Extract NC Polling Places data\n",
    "\n",
    "\n",
    "extract_load(\n",
    "      url=\"https://s3.amazonaws.com/dl.ncsbe.gov/ENRS/2020_11_03/polling_place_20201103.csv\", filepath=\"data/polling_place_20201103.csv\",\n",
    "    )\n",
    "\n",
    "\n"
   ]
  }
 ],
 "metadata": {
  "application/vnd.databricks.v1+notebook": {
   "dashboards": [],
   "environmentMetadata": null,
   "language": "python",
   "notebookMetadata": {
    "pythonIndentUnit": 2
   },
   "notebookName": "extract",
   "widgets": {}
  },
  "kernelspec": {
   "display_name": "base",
   "language": "python",
   "name": "python3"
  },
  "language_info": {
   "name": "python"
  }
 },
 "nbformat": 4,
 "nbformat_minor": 0
}
